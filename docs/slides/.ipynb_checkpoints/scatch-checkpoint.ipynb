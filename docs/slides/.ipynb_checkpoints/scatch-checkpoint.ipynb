{
  "cells": [
    {
      "cell_type": "markdown",
      "metadata": {},
      "source": [
        "---\n",
        "title: \"MCMC - Performance\"\n",
        "subtitle: \"Lecture 25\"\n",
        "author: \"Dr. Colin Rundel\"\n",
        "footer: \"Sta 663 - Spring 2025\"\n",
        "format:\n",
        "  revealjs:\n",
        "    theme: slides.scss\n",
        "    transition: fade\n",
        "    slide-number: true\n",
        "    self-contained: true\n",
        "execute: \n",
        "  echo: true\n",
        "---"
      ]
    },
    {
      "cell_type": "code",
      "metadata": {},
      "source": [
        "#| include: false\n",
        "\n",
        "import numpy as np\n",
        "import matplotlib as mpl\n",
        "import matplotlib.pyplot as plt\n",
        "import pandas as pd\n",
        "import seaborn as sns\n",
        "import scipy\n",
        "\n",
        "import patsy\n",
        "\n",
        "import pymc as pm\n",
        "import arviz as az\n",
        "\n",
        "plt.rcParams['figure.dpi'] = 200\n",
        "\n",
        "np.set_printoptions(\n",
        "  edgeitems=30, linewidth=200,\n",
        "  precision = 5, suppress=True\n",
        "  #formatter=dict(float=lambda x: \"%.5g\" % x)\n",
        ")\n",
        "\n",
        "pd.set_option(\"display.width\", 150)\n",
        "pd.set_option(\"display.max_columns\", 10)\n",
        "pd.set_option(\"display.precision\", 6)"
      ],
      "execution_count": null,
      "outputs": []
    },
    {
      "cell_type": "code",
      "metadata": {},
      "source": [
        "import stan\n",
        "\n",
        "schools_code = \"\"\"\n",
        "data {\n",
        "  int<lower=0> J;         // number of schools\n",
        "  array[J] real y;              // estimated treatment effects\n",
        "  array[J] real<lower=0> sigma; // standard error of effect estimates\n",
        "}\n",
        "parameters {\n",
        "  real mu;                // population treatment effect\n",
        "  real<lower=0> tau;      // standard deviation in treatment effects\n",
        "  vector[J] eta;          // unscaled deviation from mu by school\n",
        "}\n",
        "transformed parameters {\n",
        "  vector[J] theta = mu + tau * eta;        // school treatment effects\n",
        "}\n",
        "model {\n",
        "  target += normal_lpdf(eta | 0, 1);       // prior log-density\n",
        "  target += normal_lpdf(y | theta, sigma); // log-likelihood\n",
        "}\n",
        "\"\"\"\n",
        "\n",
        "schools_data = {\"J\": 8,\n",
        "                \"y\": [28,  8, -3,  7, -1,  1, 18, 12],\n",
        "                \"sigma\": [15, 10, 16, 11,  9, 11, 10, 18]}\n",
        "\n",
        "posterior = stan.build(schools_code, data=schools_data)\n",
        "fit = posterior.sample(num_chains=4, num_samples=1000)\n",
        "eta = fit[\"eta\"]  # array with shape (8, 4000)\n",
        "df = fit.to_frame()  # pandas `DataFrame, requires pandas"
      ],
      "execution_count": null,
      "outputs": []
    }
  ],
  "metadata": {
    "kernelspec": {
      "name": "python3",
      "language": "python",
      "display_name": "Python 3 (ipykernel)",
      "path": "/Users/rundel/.pyenv/versions/3.12.3/share/jupyter/kernels/python3"
    }
  },
  "nbformat": 4,
  "nbformat_minor": 4
}