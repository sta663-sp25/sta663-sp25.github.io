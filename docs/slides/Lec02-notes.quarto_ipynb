{
  "cells": [
    {
      "cell_type": "markdown",
      "metadata": {},
      "source": [
        "---\n",
        "title: Class Demos\n",
        "jupyter: python3\n",
        "---\n",
        "\n",
        "\n",
        "## Exercise 1\n"
      ],
      "id": "6180cfd3"
    },
    {
      "cell_type": "code",
      "metadata": {},
      "source": [
        "d = [0, 1, 2, 3, 4, 5, 6, 7, 8, 9]"
      ],
      "id": "17498c47",
      "execution_count": null,
      "outputs": []
    },
    {
      "cell_type": "markdown",
      "metadata": {},
      "source": [
        "* Select only the odd values in this list\n"
      ],
      "id": "3d548a61"
    },
    {
      "cell_type": "code",
      "metadata": {},
      "source": [
        "d[1::2]"
      ],
      "id": "06f262e1",
      "execution_count": null,
      "outputs": []
    },
    {
      "cell_type": "markdown",
      "metadata": {},
      "source": [
        "* Select every 3rd value starting from the 2nd element.\n"
      ],
      "id": "c13ac1a9"
    },
    {
      "cell_type": "code",
      "metadata": {},
      "source": [
        "d[1::3]"
      ],
      "id": "f5d60e52",
      "execution_count": null,
      "outputs": []
    },
    {
      "cell_type": "markdown",
      "metadata": {},
      "source": [
        "* Select every other value, in reverse order, starting from the 9th element.\n"
      ],
      "id": "7900add4"
    },
    {
      "cell_type": "code",
      "metadata": {},
      "source": [
        "d[-2:0:-2]"
      ],
      "id": "d3bc928a",
      "execution_count": null,
      "outputs": []
    },
    {
      "cell_type": "code",
      "metadata": {},
      "source": [
        "d[-2::-2]"
      ],
      "id": "96bfd10b",
      "execution_count": null,
      "outputs": []
    },
    {
      "cell_type": "markdown",
      "metadata": {},
      "source": [
        "* Select the 3rd element, the 5th element, and the 10th element\n"
      ],
      "id": "79972061"
    },
    {
      "cell_type": "code",
      "metadata": {},
      "source": [
        "[d[2], d[4], d[9]]"
      ],
      "id": "7378bd25",
      "execution_count": null,
      "outputs": []
    },
    {
      "cell_type": "markdown",
      "metadata": {},
      "source": [
        "## Exercise 2\n"
      ],
      "id": "0ba22c3b"
    },
    {
      "cell_type": "code",
      "metadata": {},
      "source": [
        "x = \"Hello world! 1234\""
      ],
      "id": "8f44db3f",
      "execution_count": null,
      "outputs": []
    },
    {
      "cell_type": "code",
      "metadata": {},
      "source": [
        "x.lower()"
      ],
      "id": "01ab5d67",
      "execution_count": null,
      "outputs": []
    },
    {
      "cell_type": "code",
      "metadata": {},
      "source": [
        "x.lower().split(\" \")"
      ],
      "id": "b2f32982",
      "execution_count": null,
      "outputs": []
    },
    {
      "cell_type": "code",
      "metadata": {},
      "source": [
        "source = \"the quick  Brown   fox Jumped  over   a Lazy  dog\""
      ],
      "id": "ecca15ca",
      "execution_count": null,
      "outputs": []
    },
    {
      "cell_type": "code",
      "metadata": {},
      "source": [
        "source.replace(\"   \", \" \").replace(\"  \", \" \").lower().capitalize() + \".\""
      ],
      "id": "5bbb35f3",
      "execution_count": null,
      "outputs": []
    },
    {
      "cell_type": "code",
      "metadata": {},
      "source": [
        "source.replace(\"   \", \" \").replace(\"  \", \" \").lower().capitalize().replace(\"dog\", \"dog.\")"
      ],
      "id": "0dacb1fa",
      "execution_count": null,
      "outputs": []
    }
  ],
  "metadata": {
    "kernelspec": {
      "display_name": "Python 3",
      "language": "python",
      "name": "python3"
    }
  },
  "nbformat": 4,
  "nbformat_minor": 5
}